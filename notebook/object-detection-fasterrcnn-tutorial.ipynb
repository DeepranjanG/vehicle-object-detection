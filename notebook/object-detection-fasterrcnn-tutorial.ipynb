{
 "cells": [
  {
   "cell_type": "markdown",
   "metadata": {},
   "source": [
    "# Object Detection with Faster RCNN\n",
    "\n",
    "Code is for the following video: https://www.youtube.com/watch?v=Uc90rr5jbA4&t=71s\n",
    "\n",
    "Do give this notebook a thumbs-up if you liked it. Thanks!"
   ]
  },
  {
   "cell_type": "code",
   "execution_count": null,
   "metadata": {
    "_cell_guid": "b1076dfc-b9ad-4769-8c92-a6c4dae69d19",
    "_uuid": "8f2839f25d086af736a60e9eeb907d3b93b6e0e5",
    "execution": {
     "iopub.execute_input": "2022-11-07T13:02:38.438297Z",
     "iopub.status.busy": "2022-11-07T13:02:38.437603Z",
     "iopub.status.idle": "2022-11-07T13:02:38.460017Z",
     "shell.execute_reply": "2022-11-07T13:02:38.459363Z",
     "shell.execute_reply.started": "2022-11-07T13:02:38.438199Z"
    }
   },
   "outputs": [],
   "source": [
    "import numpy as np # linear algebra\n",
    "import pandas as pd # data processing, CSV file I/O (e.g. pd.read_csv)\n",
    "import os"
   ]
  },
  {
   "cell_type": "markdown",
   "metadata": {},
   "source": [
    "Here are all the necessary libraries"
   ]
  },
  {
   "cell_type": "code",
   "execution_count": null,
   "metadata": {
    "execution": {
     "iopub.execute_input": "2022-11-07T13:02:41.024226Z",
     "iopub.status.busy": "2022-11-07T13:02:41.023956Z",
     "iopub.status.idle": "2022-11-07T13:02:44.828425Z",
     "shell.execute_reply": "2022-11-07T13:02:44.827568Z",
     "shell.execute_reply.started": "2022-11-07T13:02:41.024197Z"
    }
   },
   "outputs": [],
   "source": [
    "import torch\n",
    "import torchvision\n",
    "from torchvision import datasets, models\n",
    "from torchvision.transforms import functional as FT\n",
    "from torchvision import transforms as T\n",
    "from torch import nn, optim\n",
    "from torch.nn import functional as F\n",
    "from torch.utils.data import DataLoader, sampler, random_split, Dataset\n",
    "import copy\n",
    "import math\n",
    "from PIL import Image\n",
    "import cv2\n",
    "import albumentations as A  # our data augmentation library\n",
    "\n",
    "import matplotlib.pyplot as plt\n",
    "%matplotlib inline"
   ]
  },
  {
   "cell_type": "code",
   "execution_count": null,
   "metadata": {
    "execution": {
     "iopub.execute_input": "2022-11-07T13:02:49.637869Z",
     "iopub.status.busy": "2022-11-07T13:02:49.637566Z",
     "iopub.status.idle": "2022-11-07T13:02:49.643348Z",
     "shell.execute_reply": "2022-11-07T13:02:49.642669Z",
     "shell.execute_reply.started": "2022-11-07T13:02:49.637835Z"
    }
   },
   "outputs": [],
   "source": [
    "# remove arnings (optional)\n",
    "import warnings\n",
    "warnings.filterwarnings(\"ignore\")\n",
    "from collections import defaultdict, deque\n",
    "import datetime\n",
    "import time\n",
    "from tqdm import tqdm # progress bar\n",
    "from torchvision.utils import draw_bounding_boxes"
   ]
  },
  {
   "cell_type": "code",
   "execution_count": null,
   "metadata": {
    "execution": {
     "iopub.execute_input": "2022-11-07T13:02:51.294947Z",
     "iopub.status.busy": "2022-11-07T13:02:51.293006Z",
     "iopub.status.idle": "2022-11-07T13:02:51.300663Z",
     "shell.execute_reply": "2022-11-07T13:02:51.299563Z",
     "shell.execute_reply.started": "2022-11-07T13:02:51.294876Z"
    }
   },
   "outputs": [],
   "source": [
    "print(torch.__version__)\n",
    "print(torchvision.__version__)"
   ]
  },
  {
   "cell_type": "markdown",
   "metadata": {},
   "source": [
    "PyCOCOTools provides many utilities for dealing with datasets in the COCO format, and if you wanted, you could evaluate the model's performance on the dataset with some of the utilities provided with this library.\n",
    "\n",
    "That is out of scope for this notebook, however."
   ]
  },
  {
   "cell_type": "code",
   "execution_count": null,
   "metadata": {
    "execution": {
     "iopub.execute_input": "2022-11-07T13:02:54.056666Z",
     "iopub.status.busy": "2022-11-07T13:02:54.056400Z",
     "iopub.status.idle": "2022-11-07T13:03:28.338934Z",
     "shell.execute_reply": "2022-11-07T13:03:28.338027Z",
     "shell.execute_reply.started": "2022-11-07T13:02:54.056636Z"
    }
   },
   "outputs": [],
   "source": [
    "# our dataset is in cocoformat, we will need pypcoco tools\n",
    "from pycocotools.coco import COCO"
   ]
  },
  {
   "cell_type": "code",
   "execution_count": null,
   "metadata": {
    "execution": {
     "iopub.execute_input": "2022-11-07T13:03:28.341270Z",
     "iopub.status.busy": "2022-11-07T13:03:28.340975Z",
     "iopub.status.idle": "2022-11-07T13:03:28.351204Z",
     "shell.execute_reply": "2022-11-07T13:03:28.350446Z",
     "shell.execute_reply.started": "2022-11-07T13:03:28.341231Z"
    }
   },
   "outputs": [],
   "source": [
    "# Now, we will define our transforms\n",
    "from albumentations.pytorch import ToTensorV2"
   ]
  },
  {
   "cell_type": "markdown",
   "metadata": {},
   "source": [
    "We use albumentations as our data augmentation library due to its capability to deal with bounding boxes in multiple formats"
   ]
  },
  {
   "cell_type": "code",
   "execution_count": null,
   "metadata": {
    "execution": {
     "iopub.execute_input": "2022-11-07T13:03:31.320737Z",
     "iopub.status.busy": "2022-11-07T13:03:31.320416Z",
     "iopub.status.idle": "2022-11-07T13:03:31.328646Z",
     "shell.execute_reply": "2022-11-07T13:03:31.327304Z",
     "shell.execute_reply.started": "2022-11-07T13:03:31.320683Z"
    }
   },
   "outputs": [],
   "source": [
    "def get_transforms(train=False):\n",
    "    if train:\n",
    "        transform = A.Compose([\n",
    "            A.Resize(600, 600), # our input size can be 600px\n",
    "            A.HorizontalFlip(p=0.3),\n",
    "            A.VerticalFlip(p=0.3),\n",
    "            A.RandomBrightnessContrast(p=0.1),\n",
    "            A.ColorJitter(p=0.1),\n",
    "            ToTensorV2()\n",
    "        ], bbox_params=A.BboxParams(format='coco'))\n",
    "    else:\n",
    "        transform = A.Compose([\n",
    "            A.Resize(600, 600), # our input size can be 600px\n",
    "            ToTensorV2()\n",
    "        ], bbox_params=A.BboxParams(format='coco'))\n",
    "    return transform"
   ]
  },
  {
   "cell_type": "markdown",
   "metadata": {},
   "source": [
    "## Dataset\n",
    "\n",
    "This is our dataset class. It loads all the necessary files and it processes the data so that it can be fed into the model."
   ]
  },
  {
   "cell_type": "code",
   "execution_count": null,
   "metadata": {
    "execution": {
     "iopub.execute_input": "2022-11-07T13:03:35.625960Z",
     "iopub.status.busy": "2022-11-07T13:03:35.625671Z",
     "iopub.status.idle": "2022-11-07T13:03:35.639266Z",
     "shell.execute_reply": "2022-11-07T13:03:35.638284Z",
     "shell.execute_reply.started": "2022-11-07T13:03:35.625929Z"
    }
   },
   "outputs": [],
   "source": [
    "class VehicleDetection(datasets.VisionDataset):\n",
    "    def __init__(self, root, split='train', transform=None, target_transform=None, transforms=None):\n",
    "        # the 3 transform parameters are reuqired for datasets.VisionDataset\n",
    "        super().__init__(root, transforms, transform, target_transform)\n",
    "        self.split = split #train, valid, test\n",
    "        self.coco = COCO(os.path.join(root, split, \"_annotations.coco.json\")) # annotatiosn stored here\n",
    "        self.ids = list(sorted(self.coco.imgs.keys()))\n",
    "        self.ids = [id for id in self.ids if (len(self._load_target(id)) > 0)]\n",
    "    \n",
    "    def _load_image(self, id: int):\n",
    "        path = self.coco.loadImgs(id)[0]['file_name']\n",
    "        image = cv2.imread(os.path.join(self.root, self.split, path))\n",
    "        image = cv2.cvtColor(image, cv2.COLOR_BGR2RGB)\n",
    "        return image\n",
    "    def _load_target(self, id):\n",
    "        return self.coco.loadAnns(self.coco.getAnnIds(id))\n",
    "    \n",
    "    def __getitem__(self, index):\n",
    "        id = self.ids[index]\n",
    "        image = self._load_image(id)\n",
    "        target = self._load_target(id)\n",
    "        target = copy.deepcopy(self._load_target(id))\n",
    "        \n",
    "        boxes = [t['bbox'] + [t['category_id']] for t in target] # required annotation format for albumentations\n",
    "        if self.transforms is not None:\n",
    "            transformed = self.transforms(image=image, bboxes=boxes)\n",
    "        \n",
    "        image = transformed['image']\n",
    "        boxes = transformed['bboxes']\n",
    "        \n",
    "        new_boxes = [] # convert from xywh to xyxy\n",
    "        for box in boxes:\n",
    "            xmin = box[0]\n",
    "            xmax = xmin + box[2]\n",
    "            ymin = box[1]\n",
    "            ymax = ymin + box[3]\n",
    "            new_boxes.append([xmin, ymin, xmax, ymax])\n",
    "        \n",
    "        boxes = torch.tensor(new_boxes, dtype=torch.float32)\n",
    "        \n",
    "        targ = {} # here is our transformed target\n",
    "        targ['boxes'] = boxes\n",
    "        targ['labels'] = torch.tensor([t['category_id'] for t in target], dtype=torch.int64)\n",
    "        targ['image_id'] = torch.tensor([t['image_id'] for t in target])\n",
    "        targ['area'] = (boxes[:, 3] - boxes[:, 1]) * (boxes[:, 2] - boxes[:, 0]) # we have a different area\n",
    "        targ['iscrowd'] = torch.tensor([t['iscrowd'] for t in target], dtype=torch.int64)\n",
    "        return image.div(255), targ # scale images\n",
    "    def __len__(self):\n",
    "        return len(self.ids)"
   ]
  },
  {
   "cell_type": "code",
   "execution_count": null,
   "metadata": {
    "execution": {
     "iopub.execute_input": "2022-11-07T13:03:49.872457Z",
     "iopub.status.busy": "2022-11-07T13:03:49.872191Z",
     "iopub.status.idle": "2022-11-07T13:03:49.876510Z",
     "shell.execute_reply": "2022-11-07T13:03:49.875585Z",
     "shell.execute_reply.started": "2022-11-07T13:03:49.872426Z"
    }
   },
   "outputs": [],
   "source": [
    "dataset_path = r\"D:\\Project\\DL\\torch-object-detection\\Vehicles\""
   ]
  },
  {
   "cell_type": "code",
   "execution_count": null,
   "metadata": {
    "execution": {
     "iopub.execute_input": "2022-11-07T13:03:56.326108Z",
     "iopub.status.busy": "2022-11-07T13:03:56.325843Z",
     "iopub.status.idle": "2022-11-07T13:03:56.387254Z",
     "shell.execute_reply": "2022-11-07T13:03:56.386488Z",
     "shell.execute_reply.started": "2022-11-07T13:03:56.326079Z"
    }
   },
   "outputs": [],
   "source": [
    "#load classes\n",
    "coco = COCO(os.path.join(dataset_path, \"train\", \"_annotations.coco.json\"))\n",
    "categories = coco.cats\n",
    "n_classes = len(categories.keys())\n",
    "categories"
   ]
  },
  {
   "cell_type": "markdown",
   "metadata": {},
   "source": [
    "This code just gets a list of classes"
   ]
  },
  {
   "cell_type": "code",
   "execution_count": null,
   "metadata": {
    "execution": {
     "iopub.execute_input": "2022-11-07T13:04:00.032063Z",
     "iopub.status.busy": "2022-11-07T13:04:00.031504Z",
     "iopub.status.idle": "2022-11-07T13:04:00.037894Z",
     "shell.execute_reply": "2022-11-07T13:04:00.036998Z",
     "shell.execute_reply.started": "2022-11-07T13:04:00.032026Z"
    }
   },
   "outputs": [],
   "source": [
    "classes = [i[1]['name'] for i in categories.items()]\n",
    "classes"
   ]
  },
  {
   "cell_type": "code",
   "execution_count": null,
   "metadata": {
    "execution": {
     "iopub.execute_input": "2022-11-07T13:04:03.446483Z",
     "iopub.status.busy": "2022-11-07T13:04:03.446200Z",
     "iopub.status.idle": "2022-11-07T13:04:03.471374Z",
     "shell.execute_reply": "2022-11-07T13:04:03.470389Z",
     "shell.execute_reply.started": "2022-11-07T13:04:03.446450Z"
    }
   },
   "outputs": [],
   "source": [
    "train_dataset = VehicleDetection(root=dataset_path, transforms=get_transforms(True))"
   ]
  },
  {
   "cell_type": "markdown",
   "metadata": {},
   "source": [
    "This is a sample image and its bounding boxes, this code does not get the model's output"
   ]
  },
  {
   "cell_type": "code",
   "execution_count": null,
   "metadata": {
    "execution": {
     "iopub.execute_input": "2022-11-07T13:04:06.405223Z",
     "iopub.status.busy": "2022-11-07T13:04:06.404940Z",
     "iopub.status.idle": "2022-11-07T13:04:06.819110Z",
     "shell.execute_reply": "2022-11-07T13:04:06.818384Z",
     "shell.execute_reply.started": "2022-11-07T13:04:06.405193Z"
    }
   },
   "outputs": [],
   "source": [
    "# Lets view a sample\n",
    "sample = train_dataset[2]\n",
    "img_int = torch.tensor(sample[0] * 255, dtype=torch.uint8)\n",
    "plt.imshow(draw_bounding_boxes(\n",
    "    img_int, sample[1]['boxes'], [classes[i] for i in sample[1]['labels']], width=4\n",
    ").permute(1, 2, 0))"
   ]
  },
  {
   "cell_type": "code",
   "execution_count": null,
   "metadata": {
    "execution": {
     "iopub.execute_input": "2022-11-07T13:04:11.112487Z",
     "iopub.status.busy": "2022-11-07T13:04:11.112218Z",
     "iopub.status.idle": "2022-11-07T13:04:11.119112Z",
     "shell.execute_reply": "2022-11-07T13:04:11.118408Z",
     "shell.execute_reply.started": "2022-11-07T13:04:11.112455Z"
    }
   },
   "outputs": [],
   "source": [
    "len(train_dataset)"
   ]
  },
  {
   "cell_type": "markdown",
   "metadata": {},
   "source": [
    "## Model\n",
    "\n",
    "Our model is FasterRCNN with a backbone of `MobileNetV3-Large`. We need to change the output layers because we have just 7 classes but this model was trained on 90 classes."
   ]
  },
  {
   "cell_type": "code",
   "execution_count": null,
   "metadata": {
    "execution": {
     "iopub.execute_input": "2022-11-07T13:04:21.574367Z",
     "iopub.status.busy": "2022-11-07T13:04:21.574081Z",
     "iopub.status.idle": "2022-11-07T13:04:30.614052Z",
     "shell.execute_reply": "2022-11-07T13:04:30.613303Z",
     "shell.execute_reply.started": "2022-11-07T13:04:21.574333Z"
    }
   },
   "outputs": [],
   "source": [
    "# lets load the faster rcnn model\n",
    "model = models.detection.fasterrcnn_mobilenet_v3_large_fpn(pretrained=True)\n",
    "in_features = model.roi_heads.box_predictor.cls_score.in_features # we need to change the head\n",
    "model.roi_heads.box_predictor = models.detection.faster_rcnn.FastRCNNPredictor(in_features, n_classes)"
   ]
  },
  {
   "cell_type": "markdown",
   "metadata": {},
   "source": [
    "This is our collating function for the train dataloader, it allows us to create batches of data that can be easily pass into the model"
   ]
  },
  {
   "cell_type": "code",
   "execution_count": null,
   "metadata": {
    "execution": {
     "iopub.execute_input": "2022-11-07T13:04:33.877833Z",
     "iopub.status.busy": "2022-11-07T13:04:33.877546Z",
     "iopub.status.idle": "2022-11-07T13:04:33.882411Z",
     "shell.execute_reply": "2022-11-07T13:04:33.881307Z",
     "shell.execute_reply.started": "2022-11-07T13:04:33.877796Z"
    }
   },
   "outputs": [],
   "source": [
    "def collate_fn(batch):\n",
    "    return tuple(zip(*batch))"
   ]
  },
  {
   "cell_type": "code",
   "execution_count": null,
   "metadata": {
    "execution": {
     "iopub.execute_input": "2022-11-07T13:04:35.677882Z",
     "iopub.status.busy": "2022-11-07T13:04:35.677550Z",
     "iopub.status.idle": "2022-11-07T13:04:35.686204Z",
     "shell.execute_reply": "2022-11-07T13:04:35.685161Z",
     "shell.execute_reply.started": "2022-11-07T13:04:35.677835Z"
    }
   },
   "outputs": [],
   "source": [
    "train_loader = DataLoader(train_dataset, batch_size=4, shuffle=True, num_workers=4, collate_fn=collate_fn)"
   ]
  },
  {
   "cell_type": "markdown",
   "metadata": {},
   "source": [
    "The following blocks ensures that the model can take in the data and that it will not crash during training"
   ]
  },
  {
   "cell_type": "code",
   "execution_count": null,
   "metadata": {
    "execution": {
     "iopub.execute_input": "2022-11-07T13:04:37.687650Z",
     "iopub.status.busy": "2022-11-07T13:04:37.687382Z",
     "iopub.status.idle": "2022-11-07T13:04:42.131016Z",
     "shell.execute_reply": "2022-11-07T13:04:42.130087Z",
     "shell.execute_reply.started": "2022-11-07T13:04:37.687618Z"
    }
   },
   "outputs": [],
   "source": [
    "images,targets = next(iter(train_loader))\n",
    "images = list(image for image in images)\n",
    "targets = [{k:v for k, v in t.items()} for t in targets]\n",
    "output = model(images, targets) # just make sure this runs without error"
   ]
  },
  {
   "cell_type": "code",
   "execution_count": null,
   "metadata": {
    "execution": {
     "iopub.execute_input": "2022-11-07T13:04:44.821939Z",
     "iopub.status.busy": "2022-11-07T13:04:44.821461Z",
     "iopub.status.idle": "2022-11-07T13:04:44.827649Z",
     "shell.execute_reply": "2022-11-07T13:04:44.826695Z",
     "shell.execute_reply.started": "2022-11-07T13:04:44.821904Z"
    }
   },
   "outputs": [],
   "source": [
    "device = torch.device(\"cuda\") # use GPU to train"
   ]
  },
  {
   "cell_type": "code",
   "execution_count": null,
   "metadata": {
    "execution": {
     "iopub.execute_input": "2022-11-07T13:04:49.317755Z",
     "iopub.status.busy": "2022-11-07T13:04:49.317455Z",
     "iopub.status.idle": "2022-11-07T13:04:52.432384Z",
     "shell.execute_reply": "2022-11-07T13:04:52.431551Z",
     "shell.execute_reply.started": "2022-11-07T13:04:49.317702Z"
    }
   },
   "outputs": [],
   "source": [
    "model = model.to(device)"
   ]
  },
  {
   "cell_type": "markdown",
   "metadata": {},
   "source": [
    "## Optimizer\n",
    "\n",
    "Here, we define the optimizer. If you wish, you can also define the LR Scheduler, but it is not necessary for this notebook since our dataset is so small.\n",
    "\n",
    "> Note, there are a few bugs with the current way `lr_scheduler` is implemented. If you wish to use the scheduler, you will have to fix those bugs"
   ]
  },
  {
   "cell_type": "code",
   "execution_count": null,
   "metadata": {
    "execution": {
     "iopub.execute_input": "2022-11-07T13:05:36.625309Z",
     "iopub.status.busy": "2022-11-07T13:05:36.625005Z",
     "iopub.status.idle": "2022-11-07T13:05:36.631281Z",
     "shell.execute_reply": "2022-11-07T13:05:36.630525Z",
     "shell.execute_reply.started": "2022-11-07T13:05:36.625279Z"
    }
   },
   "outputs": [],
   "source": [
    "# Now, and optimizer\n",
    "params = [p for p in model.parameters() if p.requires_grad]\n",
    "optimizer = torch.optim.SGD(params, lr=0.01, momentum=0.9, nesterov=True, weight_decay=1e-4)\n",
    "# lr_scheduler = torch.optim.lr_scheduler.MultiStepLR(optimizer, milestones=[16, 22], gamma=0.1) # lr scheduler"
   ]
  },
  {
   "cell_type": "code",
   "execution_count": null,
   "metadata": {
    "execution": {
     "iopub.execute_input": "2022-11-07T13:05:38.053047Z",
     "iopub.status.busy": "2022-11-07T13:05:38.052448Z",
     "iopub.status.idle": "2022-11-07T13:05:38.057121Z",
     "shell.execute_reply": "2022-11-07T13:05:38.056252Z",
     "shell.execute_reply.started": "2022-11-07T13:05:38.053006Z"
    }
   },
   "outputs": [],
   "source": [
    "import sys"
   ]
  },
  {
   "cell_type": "markdown",
   "metadata": {},
   "source": [
    "## Training\n",
    "\n",
    "The following is a function that will train the model for one epoch. Torchvision Object Detections models have a loss function built in, and it will calculate the loss automatically if you pass in the `inputs` and `targets`"
   ]
  },
  {
   "cell_type": "code",
   "execution_count": null,
   "metadata": {
    "execution": {
     "iopub.execute_input": "2022-11-07T13:05:44.517651Z",
     "iopub.status.busy": "2022-11-07T13:05:44.517382Z",
     "iopub.status.idle": "2022-11-07T13:05:44.530467Z",
     "shell.execute_reply": "2022-11-07T13:05:44.529689Z",
     "shell.execute_reply.started": "2022-11-07T13:05:44.517622Z"
    }
   },
   "outputs": [],
   "source": [
    "def train_one_epoch(model, optimizer, loader, device, epoch):\n",
    "    model.to(device)\n",
    "    model.train()\n",
    "    \n",
    "#     lr_scheduler = None\n",
    "#     if epoch == 0:\n",
    "#         warmup_factor = 1.0 / 1000 # do lr warmup\n",
    "#         warmup_iters = min(1000, len(loader) - 1)\n",
    "        \n",
    "#         lr_scheduler = optim.lr_scheduler.LinearLR(optimizer, start_factor = warmup_factor, total_iters=warmup_iters)\n",
    "    \n",
    "    all_losses = []\n",
    "    all_losses_dict = []\n",
    "    \n",
    "    for images, targets in tqdm(loader):\n",
    "        images = list(image.to(device) for image in images)\n",
    "        targets = [{k: torch.tensor(v).to(device) for k, v in t.items()} for t in targets]\n",
    "        \n",
    "        loss_dict = model(images, targets) # the model computes the loss automatically if we pass in targets\n",
    "        losses = sum(loss for loss in loss_dict.values())\n",
    "        loss_dict_append = {k: v.item() for k, v in loss_dict.items()}\n",
    "        loss_value = losses.item()\n",
    "        \n",
    "        all_losses.append(loss_value)\n",
    "        all_losses_dict.append(loss_dict_append)\n",
    "        \n",
    "        if not math.isfinite(loss_value):\n",
    "            print(f\"Loss is {loss_value}, stopping trainig\") # train if loss becomes infinity\n",
    "            print(loss_dict)\n",
    "            sys.exit(1)\n",
    "        \n",
    "        optimizer.zero_grad()\n",
    "        losses.backward()\n",
    "        optimizer.step()\n",
    "        \n",
    "#         if lr_scheduler is not None:\n",
    "#             lr_scheduler.step() # \n",
    "        \n",
    "    all_losses_dict = pd.DataFrame(all_losses_dict) # for printing\n",
    "    print(\"Epoch {}, lr: {:.6f}, loss: {:.6f}, loss_classifier: {:.6f}, loss_box: {:.6f}, loss_rpn_box: {:.6f}, loss_object: {:.6f}\".format(\n",
    "        epoch, optimizer.param_groups[0]['lr'], np.mean(all_losses),\n",
    "        all_losses_dict['loss_classifier'].mean(),\n",
    "        all_losses_dict['loss_box_reg'].mean(),\n",
    "        all_losses_dict['loss_rpn_box_reg'].mean(),\n",
    "        all_losses_dict['loss_objectness'].mean()\n",
    "    ))"
   ]
  },
  {
   "cell_type": "markdown",
   "metadata": {},
   "source": [
    "10 Epochs should be enough to train this model for a high accuracy"
   ]
  },
  {
   "cell_type": "code",
   "execution_count": null,
   "metadata": {
    "execution": {
     "iopub.execute_input": "2022-11-07T13:05:59.061619Z",
     "iopub.status.busy": "2022-11-07T13:05:59.061354Z",
     "iopub.status.idle": "2022-11-07T13:09:00.904190Z",
     "shell.execute_reply": "2022-11-07T13:09:00.902903Z",
     "shell.execute_reply.started": "2022-11-07T13:05:59.061589Z"
    }
   },
   "outputs": [],
   "source": [
    "num_epochs=10\n",
    "\n",
    "for epoch in range(num_epochs):\n",
    "    train_one_epoch(model, optimizer, train_loader, device, epoch)\n",
    "#     lr_scheduler.step()"
   ]
  },
  {
   "cell_type": "code",
   "execution_count": null,
   "metadata": {},
   "outputs": [],
   "source": [
    "# our learning rate was too low, due to a lr scheduler bug. For this task, we wont need a scheudul.er"
   ]
  },
  {
   "cell_type": "markdown",
   "metadata": {},
   "source": [
    "## Trying on sample Images\n",
    "\n",
    "This is the inference code for the model. First, we set the model to evaluation mode and clear the GPU Cache. We also load a test dataset, so that we can use fresh images that the model hasn't seen."
   ]
  },
  {
   "cell_type": "code",
   "execution_count": null,
   "metadata": {
    "execution": {
     "iopub.execute_input": "2022-11-07T13:09:19.745372Z",
     "iopub.status.busy": "2022-11-07T13:09:19.745062Z",
     "iopub.status.idle": "2022-11-07T13:09:19.786799Z",
     "shell.execute_reply": "2022-11-07T13:09:19.784694Z",
     "shell.execute_reply.started": "2022-11-07T13:09:19.745340Z"
    }
   },
   "outputs": [],
   "source": [
    "# we will watch first epoich to ensure no errrors\n",
    "# while it is training, lets write code to see the models predictions. lets try again\n",
    "model.eval()\n",
    "torch.cuda.empty_cache()"
   ]
  },
  {
   "cell_type": "code",
   "execution_count": null,
   "metadata": {
    "execution": {
     "iopub.execute_input": "2022-11-07T13:09:26.111707Z",
     "iopub.status.busy": "2022-11-07T13:09:26.111435Z",
     "iopub.status.idle": "2022-11-07T13:09:26.141201Z",
     "shell.execute_reply": "2022-11-07T13:09:26.140469Z",
     "shell.execute_reply.started": "2022-11-07T13:09:26.111675Z"
    }
   },
   "outputs": [],
   "source": [
    "test_dataset = AquariumDetection(root=dataset_path, split=\"test\", transforms=get_transforms(False))"
   ]
  },
  {
   "cell_type": "code",
   "execution_count": null,
   "metadata": {
    "execution": {
     "iopub.execute_input": "2022-11-07T13:09:29.444231Z",
     "iopub.status.busy": "2022-11-07T13:09:29.443653Z",
     "iopub.status.idle": "2022-11-07T13:09:29.516458Z",
     "shell.execute_reply": "2022-11-07T13:09:29.515694Z",
     "shell.execute_reply.started": "2022-11-07T13:09:29.444191Z"
    }
   },
   "outputs": [],
   "source": [
    "img, _ = test_dataset[5]\n",
    "img_int = torch.tensor(img*255, dtype=torch.uint8)\n",
    "with torch.no_grad():\n",
    "    prediction = model([img.to(device)])\n",
    "    pred = prediction[0]"
   ]
  },
  {
   "cell_type": "code",
   "execution_count": null,
   "metadata": {
    "execution": {
     "iopub.execute_input": "2022-11-07T13:11:27.287733Z",
     "iopub.status.busy": "2022-11-07T13:11:27.287193Z",
     "iopub.status.idle": "2022-11-07T13:11:27.305506Z",
     "shell.execute_reply": "2022-11-07T13:11:27.304677Z",
     "shell.execute_reply.started": "2022-11-07T13:11:27.287683Z"
    }
   },
   "outputs": [],
   "source": [
    "prediction"
   ]
  },
  {
   "cell_type": "code",
   "execution_count": null,
   "metadata": {
    "execution": {
     "iopub.execute_input": "2022-11-07T13:09:32.045233Z",
     "iopub.status.busy": "2022-11-07T13:09:32.044965Z",
     "iopub.status.idle": "2022-11-07T13:09:32.050022Z",
     "shell.execute_reply": "2022-11-07T13:09:32.048146Z",
     "shell.execute_reply.started": "2022-11-07T13:09:32.045201Z"
    }
   },
   "outputs": [],
   "source": [
    "# it did learn"
   ]
  },
  {
   "cell_type": "code",
   "execution_count": null,
   "metadata": {
    "execution": {
     "iopub.execute_input": "2022-11-07T13:09:34.619838Z",
     "iopub.status.busy": "2022-11-07T13:09:34.619552Z",
     "iopub.status.idle": "2022-11-07T13:09:35.090261Z",
     "shell.execute_reply": "2022-11-07T13:09:35.089645Z",
     "shell.execute_reply.started": "2022-11-07T13:09:34.619805Z"
    }
   },
   "outputs": [],
   "source": [
    "fig = plt.figure(figsize=(14, 10))\n",
    "plt.imshow(draw_bounding_boxes(img_int,\n",
    "    pred['boxes'][pred['scores'] > 0.8],\n",
    "    [classes[i] for i in pred['labels'][pred['scores'] > 0.8].tolist()], width=4\n",
    ").permute(1, 2, 0))"
   ]
  },
  {
   "cell_type": "code",
   "execution_count": null,
   "metadata": {},
   "outputs": [],
   "source": []
  }
 ],
 "metadata": {
  "kernelspec": {
   "display_name": "Python 3 (ipykernel)",
   "language": "python",
   "name": "python3"
  },
  "language_info": {
   "codemirror_mode": {
    "name": "ipython",
    "version": 3
   },
   "file_extension": ".py",
   "mimetype": "text/x-python",
   "name": "python",
   "nbconvert_exporter": "python",
   "pygments_lexer": "ipython3",
   "version": "3.8.13"
  },
  "vscode": {
   "interpreter": {
    "hash": "19d1d53a962d236aa061289c2ac16dc8e6d9648c89fe79f459ae9a3493bc67b4"
   }
  }
 },
 "nbformat": 4,
 "nbformat_minor": 4
}
